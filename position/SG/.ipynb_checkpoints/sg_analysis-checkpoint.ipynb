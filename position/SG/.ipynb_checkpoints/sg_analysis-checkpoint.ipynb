{
 "cells": [
  {
   "cell_type": "code",
   "execution_count": 1,
   "id": "c4cd761d",
   "metadata": {},
   "outputs": [],
   "source": [
    "import pandas as pd\n",
    "import numpy as np\n",
    "import matplotlib.pyplot as plt"
   ]
  },
  {
   "cell_type": "code",
   "execution_count": 2,
   "id": "ad91b3c5",
   "metadata": {},
   "outputs": [
    {
     "data": {
      "text/plain": [
       "Index(['Player', 'Pos', 'Age', 'Tm', 'G', 'GS', 'MP', 'FG', 'FGA', 'FG%', '3P',\n",
       "       '3PA', '3P%', '2P', '2PA', '2P%', 'eFG%', 'FT', 'FTA', 'FT%', 'ORB',\n",
       "       'DRB', 'TRB', 'AST', 'STL', 'BLK', 'TOV', 'PF', 'PTS', 'PER', 'TS%',\n",
       "       '3PAr', 'FTr', 'ORB%', 'DRB%', 'TRB%', 'AST%', 'STL%', 'BLK%', 'TOV%',\n",
       "       'USG%', 'OWS', 'DWS', 'WS', 'WS/48', 'OBPM', 'DBPM', 'BPM', 'VORP'],\n",
       "      dtype='object')"
      ]
     },
     "execution_count": 2,
     "metadata": {},
     "output_type": "execute_result"
    }
   ],
   "source": [
    "df = pd.read_csv(\"sg_data.csv\")\n",
    "df.columns"
   ]
  },
  {
   "cell_type": "code",
   "execution_count": 88,
   "id": "7651b15a",
   "metadata": {
    "scrolled": false
   },
   "outputs": [
    {
     "data": {
      "text/plain": [
       "James Harden      9\n",
       "Victor Oladipo    9\n",
       "Name: Player, dtype: int64"
      ]
     },
     "execution_count": 88,
     "metadata": {},
     "output_type": "execute_result"
    }
   ],
   "source": [
    "#check for duplicate values\n",
    "temp = df.Player.value_counts()\n",
    "temp[temp>1]"
   ]
  },
  {
   "cell_type": "code",
   "execution_count": 116,
   "id": "8c8f045d",
   "metadata": {},
   "outputs": [
    {
     "data": {
      "text/html": [
       "<div>\n",
       "<style scoped>\n",
       "    .dataframe tbody tr th:only-of-type {\n",
       "        vertical-align: middle;\n",
       "    }\n",
       "\n",
       "    .dataframe tbody tr th {\n",
       "        vertical-align: top;\n",
       "    }\n",
       "\n",
       "    .dataframe thead th {\n",
       "        text-align: right;\n",
       "    }\n",
       "</style>\n",
       "<table border=\"1\" class=\"dataframe\">\n",
       "  <thead>\n",
       "    <tr style=\"text-align: right;\">\n",
       "      <th></th>\n",
       "      <th>Player</th>\n",
       "      <th>Pos</th>\n",
       "      <th>Age</th>\n",
       "      <th>G</th>\n",
       "      <th>GS</th>\n",
       "      <th>MP</th>\n",
       "      <th>FG</th>\n",
       "      <th>FGA</th>\n",
       "      <th>FG%</th>\n",
       "      <th>3P</th>\n",
       "      <th>...</th>\n",
       "      <th>TOV%</th>\n",
       "      <th>USG%</th>\n",
       "      <th>OWS</th>\n",
       "      <th>DWS</th>\n",
       "      <th>WS</th>\n",
       "      <th>WS/48</th>\n",
       "      <th>OBPM</th>\n",
       "      <th>DBPM</th>\n",
       "      <th>BPM</th>\n",
       "      <th>VORP</th>\n",
       "    </tr>\n",
       "  </thead>\n",
       "  <tbody>\n",
       "    <tr>\n",
       "      <th>50</th>\n",
       "      <td>James Harden</td>\n",
       "      <td>8.0</td>\n",
       "      <td>31.0</td>\n",
       "      <td>16.0</td>\n",
       "      <td>16.0</td>\n",
       "      <td>37.4</td>\n",
       "      <td>7.6</td>\n",
       "      <td>16.0</td>\n",
       "      <td>0.476</td>\n",
       "      <td>3.033333</td>\n",
       "      <td>...</td>\n",
       "      <td>18.366667</td>\n",
       "      <td>26.866667</td>\n",
       "      <td>2.2</td>\n",
       "      <td>0.566667</td>\n",
       "      <td>2.733333</td>\n",
       "      <td>0.215</td>\n",
       "      <td>5.933333</td>\n",
       "      <td>-0.366667</td>\n",
       "      <td>5.6</td>\n",
       "      <td>1.2</td>\n",
       "    </tr>\n",
       "  </tbody>\n",
       "</table>\n",
       "<p>1 rows × 48 columns</p>\n",
       "</div>"
      ],
      "text/plain": [
       "          Player  Pos   Age     G    GS    MP   FG   FGA    FG%        3P  \\\n",
       "50  James Harden  8.0  31.0  16.0  16.0  37.4  7.6  16.0  0.476  3.033333   \n",
       "\n",
       "    ...       TOV%       USG%  OWS       DWS        WS  WS/48      OBPM  \\\n",
       "50  ...  18.366667  26.866667  2.2  0.566667  2.733333  0.215  5.933333   \n",
       "\n",
       "        DBPM  BPM  VORP  \n",
       "50 -0.366667  5.6   1.2  \n",
       "\n",
       "[1 rows x 48 columns]"
      ]
     },
     "execution_count": 116,
     "metadata": {},
     "output_type": "execute_result"
    }
   ],
   "source": [
    "n_df.query(\"Player == 'James Harden'\")"
   ]
  },
  {
   "cell_type": "code",
   "execution_count": 90,
   "id": "b4cc6d42",
   "metadata": {},
   "outputs": [],
   "source": [
    "#average out the duplicates\n",
    "n_df = df.groupby('Player').mean().reset_index()"
   ]
  },
  {
   "cell_type": "code",
   "execution_count": 91,
   "id": "d6732e74",
   "metadata": {},
   "outputs": [
    {
     "data": {
      "text/plain": [
       "Series([], Name: Player, dtype: int64)"
      ]
     },
     "execution_count": 91,
     "metadata": {},
     "output_type": "execute_result"
    }
   ],
   "source": [
    "#double check if duplicates still exist\n",
    "temp = n_df.Player.value_counts()\n",
    "temp[temp>1]"
   ]
  },
  {
   "cell_type": "markdown",
   "id": "ea20b538",
   "metadata": {},
   "source": [
    "### Select and prep the data"
   ]
  },
  {
   "cell_type": "code",
   "execution_count": 92,
   "id": "927d021b",
   "metadata": {},
   "outputs": [
    {
     "data": {
      "text/html": [
       "<div>\n",
       "<style scoped>\n",
       "    .dataframe tbody tr th:only-of-type {\n",
       "        vertical-align: middle;\n",
       "    }\n",
       "\n",
       "    .dataframe tbody tr th {\n",
       "        vertical-align: top;\n",
       "    }\n",
       "\n",
       "    .dataframe thead th {\n",
       "        text-align: right;\n",
       "    }\n",
       "</style>\n",
       "<table border=\"1\" class=\"dataframe\">\n",
       "  <thead>\n",
       "    <tr style=\"text-align: right;\">\n",
       "      <th></th>\n",
       "      <th>PTS</th>\n",
       "      <th>AST</th>\n",
       "      <th>TRB</th>\n",
       "      <th>TOV</th>\n",
       "      <th>STL</th>\n",
       "      <th>BLK</th>\n",
       "      <th>USG%</th>\n",
       "      <th>BPM</th>\n",
       "    </tr>\n",
       "  </thead>\n",
       "  <tbody>\n",
       "    <tr>\n",
       "      <th>0</th>\n",
       "      <td>1.6</td>\n",
       "      <td>0.6</td>\n",
       "      <td>0.6</td>\n",
       "      <td>0.3</td>\n",
       "      <td>0.3</td>\n",
       "      <td>0.1</td>\n",
       "      <td>16.2</td>\n",
       "      <td>-6.6</td>\n",
       "    </tr>\n",
       "    <tr>\n",
       "      <th>1</th>\n",
       "      <td>11.1</td>\n",
       "      <td>2.1</td>\n",
       "      <td>4.6</td>\n",
       "      <td>1.1</td>\n",
       "      <td>0.8</td>\n",
       "      <td>0.3</td>\n",
       "      <td>19.3</td>\n",
       "      <td>0.5</td>\n",
       "    </tr>\n",
       "    <tr>\n",
       "      <th>2</th>\n",
       "      <td>2.9</td>\n",
       "      <td>0.4</td>\n",
       "      <td>0.8</td>\n",
       "      <td>0.4</td>\n",
       "      <td>0.2</td>\n",
       "      <td>0.0</td>\n",
       "      <td>14.9</td>\n",
       "      <td>-2.8</td>\n",
       "    </tr>\n",
       "    <tr>\n",
       "      <th>3</th>\n",
       "      <td>9.0</td>\n",
       "      <td>1.2</td>\n",
       "      <td>2.3</td>\n",
       "      <td>0.8</td>\n",
       "      <td>0.2</td>\n",
       "      <td>0.2</td>\n",
       "      <td>20.6</td>\n",
       "      <td>-1.6</td>\n",
       "    </tr>\n",
       "    <tr>\n",
       "      <th>4</th>\n",
       "      <td>14.6</td>\n",
       "      <td>2.4</td>\n",
       "      <td>3.7</td>\n",
       "      <td>1.6</td>\n",
       "      <td>0.7</td>\n",
       "      <td>0.3</td>\n",
       "      <td>25.1</td>\n",
       "      <td>-5.1</td>\n",
       "    </tr>\n",
       "  </tbody>\n",
       "</table>\n",
       "</div>"
      ],
      "text/plain": [
       "    PTS  AST  TRB  TOV  STL  BLK  USG%  BPM\n",
       "0   1.6  0.6  0.6  0.3  0.3  0.1  16.2 -6.6\n",
       "1  11.1  2.1  4.6  1.1  0.8  0.3  19.3  0.5\n",
       "2   2.9  0.4  0.8  0.4  0.2  0.0  14.9 -2.8\n",
       "3   9.0  1.2  2.3  0.8  0.2  0.2  20.6 -1.6\n",
       "4  14.6  2.4  3.7  1.6  0.7  0.3  25.1 -5.1"
      ]
     },
     "execution_count": 92,
     "metadata": {},
     "output_type": "execute_result"
    }
   ],
   "source": [
    "sgdf = n_df[['PTS','AST','TRB','TOV','STL','BLK','USG%','BPM']]\n",
    "sgdf.head()"
   ]
  },
  {
   "cell_type": "code",
   "execution_count": 93,
   "id": "567dbebf",
   "metadata": {
    "scrolled": true
   },
   "outputs": [
    {
     "data": {
      "text/plain": [
       "<matplotlib.axes._subplots.AxesSubplot at 0x201139d8d88>"
      ]
     },
     "execution_count": 93,
     "metadata": {},
     "output_type": "execute_result"
    },
    {
     "data": {
      "image/png": "[encoded data removed]",
      "text/plain": [
       "<Figure size 864x432 with 2 Axes>"
      ]
     },
     "metadata": {
      "needs_background": "light"
     },
     "output_type": "display_data"
    }
   ],
   "source": [
    "import seaborn as sns\n",
    "temp = sgdf.corr()\n",
    "sns.heatmap(temp)"
   ]
  },
  {
   "cell_type": "code",
   "execution_count": 94,
   "id": "da4901e3",
   "metadata": {},
   "outputs": [
    {
     "data": {
      "text/html": [
       "<div>\n",
       "<style scoped>\n",
       "    .dataframe tbody tr th:only-of-type {\n",
       "        vertical-align: middle;\n",
       "    }\n",
       "\n",
       "    .dataframe tbody tr th {\n",
       "        vertical-align: top;\n",
       "    }\n",
       "\n",
       "    .dataframe thead th {\n",
       "        text-align: right;\n",
       "    }\n",
       "</style>\n",
       "<table border=\"1\" class=\"dataframe\">\n",
       "  <thead>\n",
       "    <tr style=\"text-align: right;\">\n",
       "      <th></th>\n",
       "      <th>PTS</th>\n",
       "      <th>AST</th>\n",
       "      <th>TRB</th>\n",
       "      <th>TOV</th>\n",
       "      <th>STL</th>\n",
       "      <th>BLK</th>\n",
       "      <th>USG%</th>\n",
       "      <th>BPM</th>\n",
       "    </tr>\n",
       "  </thead>\n",
       "  <tbody>\n",
       "    <tr>\n",
       "      <th>count</th>\n",
       "      <td>118.000000</td>\n",
       "      <td>118.000000</td>\n",
       "      <td>118.000000</td>\n",
       "      <td>118.000000</td>\n",
       "      <td>118.000000</td>\n",
       "      <td>118.000000</td>\n",
       "      <td>118.000000</td>\n",
       "      <td>118.000000</td>\n",
       "    </tr>\n",
       "    <tr>\n",
       "      <th>mean</th>\n",
       "      <td>9.487288</td>\n",
       "      <td>1.990960</td>\n",
       "      <td>2.673446</td>\n",
       "      <td>1.094068</td>\n",
       "      <td>0.647458</td>\n",
       "      <td>0.259887</td>\n",
       "      <td>19.052825</td>\n",
       "      <td>-2.825989</td>\n",
       "    </tr>\n",
       "    <tr>\n",
       "      <th>std</th>\n",
       "      <td>6.955946</td>\n",
       "      <td>1.700643</td>\n",
       "      <td>1.575414</td>\n",
       "      <td>0.829508</td>\n",
       "      <td>0.392605</td>\n",
       "      <td>0.214328</td>\n",
       "      <td>5.871242</td>\n",
       "      <td>5.307849</td>\n",
       "    </tr>\n",
       "    <tr>\n",
       "      <th>min</th>\n",
       "      <td>0.000000</td>\n",
       "      <td>0.000000</td>\n",
       "      <td>0.000000</td>\n",
       "      <td>0.000000</td>\n",
       "      <td>0.000000</td>\n",
       "      <td>0.000000</td>\n",
       "      <td>7.000000</td>\n",
       "      <td>-22.200000</td>\n",
       "    </tr>\n",
       "    <tr>\n",
       "      <th>25%</th>\n",
       "      <td>4.750000</td>\n",
       "      <td>0.900000</td>\n",
       "      <td>1.425000</td>\n",
       "      <td>0.500000</td>\n",
       "      <td>0.300000</td>\n",
       "      <td>0.100000</td>\n",
       "      <td>15.000000</td>\n",
       "      <td>-3.600000</td>\n",
       "    </tr>\n",
       "    <tr>\n",
       "      <th>50%</th>\n",
       "      <td>8.050000</td>\n",
       "      <td>1.600000</td>\n",
       "      <td>2.500000</td>\n",
       "      <td>0.900000</td>\n",
       "      <td>0.700000</td>\n",
       "      <td>0.200000</td>\n",
       "      <td>18.550000</td>\n",
       "      <td>-2.100000</td>\n",
       "    </tr>\n",
       "    <tr>\n",
       "      <th>75%</th>\n",
       "      <td>12.500000</td>\n",
       "      <td>2.650000</td>\n",
       "      <td>3.875000</td>\n",
       "      <td>1.400000</td>\n",
       "      <td>0.900000</td>\n",
       "      <td>0.400000</td>\n",
       "      <td>22.600000</td>\n",
       "      <td>-0.325000</td>\n",
       "    </tr>\n",
       "    <tr>\n",
       "      <th>max</th>\n",
       "      <td>32.800000</td>\n",
       "      <td>11.166667</td>\n",
       "      <td>6.933333</td>\n",
       "      <td>4.300000</td>\n",
       "      <td>1.700000</td>\n",
       "      <td>1.000000</td>\n",
       "      <td>36.600000</td>\n",
       "      <td>6.900000</td>\n",
       "    </tr>\n",
       "  </tbody>\n",
       "</table>\n",
       "</div>"
      ],
      "text/plain": [
       "              PTS         AST         TRB         TOV         STL         BLK  \\\n",
       "count  118.000000  118.000000  118.000000  118.000000  118.000000  118.000000   \n",
       "mean     9.487288    1.990960    2.673446    1.094068    0.647458    0.259887   \n",
       "std      6.955946    1.700643    1.575414    0.829508    0.392605    0.214328   \n",
       "min      0.000000    0.000000    0.000000    0.000000    0.000000    0.000000   \n",
       "25%      4.750000    0.900000    1.425000    0.500000    0.300000    0.100000   \n",
       "50%      8.050000    1.600000    2.500000    0.900000    0.700000    0.200000   \n",
       "75%     12.500000    2.650000    3.875000    1.400000    0.900000    0.400000   \n",
       "max     32.800000   11.166667    6.933333    4.300000    1.700000    1.000000   \n",
       "\n",
       "             USG%         BPM  \n",
       "count  118.000000  118.000000  \n",
       "mean    19.052825   -2.825989  \n",
       "std      5.871242    5.307849  \n",
       "min      7.000000  -22.200000  \n",
       "25%     15.000000   -3.600000  \n",
       "50%     18.550000   -2.100000  \n",
       "75%     22.600000   -0.325000  \n",
       "max     36.600000    6.900000  "
      ]
     },
     "execution_count": 94,
     "metadata": {},
     "output_type": "execute_result"
    }
   ],
   "source": [
    "sgdf.describe()"
   ]
  },
  {
   "cell_type": "code",
   "execution_count": 95,
   "id": "97bc0bd5",
   "metadata": {
    "scrolled": false
   },
   "outputs": [
    {
     "data": {
      "text/plain": [
       "<matplotlib.axes._subplots.AxesSubplot at 0x20113a90388>"
      ]
     },
     "execution_count": 95,
     "metadata": {},
     "output_type": "execute_result"
    },
    {
     "data": {
      "image/png": "[encoded data removed]",
      "text/plain": [
       "<Figure size 864x432 with 1 Axes>"
      ]
     },
     "metadata": {
      "needs_background": "light"
     },
     "output_type": "display_data"
    }
   ],
   "source": [
    "sns.kdeplot(data = sgdf)"
   ]
  },
  {
   "cell_type": "code",
   "execution_count": 96,
   "id": "ca48ce03",
   "metadata": {},
   "outputs": [
    {
     "data": {
      "text/html": [
       "<div>\n",
       "<style scoped>\n",
       "    .dataframe tbody tr th:only-of-type {\n",
       "        vertical-align: middle;\n",
       "    }\n",
       "\n",
       "    .dataframe tbody tr th {\n",
       "        vertical-align: top;\n",
       "    }\n",
       "\n",
       "    .dataframe thead th {\n",
       "        text-align: right;\n",
       "    }\n",
       "</style>\n",
       "<table border=\"1\" class=\"dataframe\">\n",
       "  <thead>\n",
       "    <tr style=\"text-align: right;\">\n",
       "      <th></th>\n",
       "      <th>PTS</th>\n",
       "      <th>AST</th>\n",
       "      <th>TRB</th>\n",
       "      <th>TOV</th>\n",
       "      <th>STL</th>\n",
       "      <th>BLK</th>\n",
       "      <th>USG%</th>\n",
       "      <th>BPM</th>\n",
       "    </tr>\n",
       "  </thead>\n",
       "  <tbody>\n",
       "    <tr>\n",
       "      <th>0</th>\n",
       "      <td>0.090952</td>\n",
       "      <td>0.034107</td>\n",
       "      <td>0.034107</td>\n",
       "      <td>0.017053</td>\n",
       "      <td>0.017053</td>\n",
       "      <td>0.005684</td>\n",
       "      <td>0.920886</td>\n",
       "      <td>-0.375176</td>\n",
       "    </tr>\n",
       "    <tr>\n",
       "      <th>1</th>\n",
       "      <td>0.485156</td>\n",
       "      <td>0.091786</td>\n",
       "      <td>0.201056</td>\n",
       "      <td>0.048079</td>\n",
       "      <td>0.034966</td>\n",
       "      <td>0.013112</td>\n",
       "      <td>0.843559</td>\n",
       "      <td>0.021854</td>\n",
       "    </tr>\n",
       "    <tr>\n",
       "      <th>2</th>\n",
       "      <td>0.187483</td>\n",
       "      <td>0.025860</td>\n",
       "      <td>0.051720</td>\n",
       "      <td>0.025860</td>\n",
       "      <td>0.012930</td>\n",
       "      <td>0.000000</td>\n",
       "      <td>0.963277</td>\n",
       "      <td>-0.181019</td>\n",
       "    </tr>\n",
       "    <tr>\n",
       "      <th>3</th>\n",
       "      <td>0.396445</td>\n",
       "      <td>0.052859</td>\n",
       "      <td>0.101314</td>\n",
       "      <td>0.035240</td>\n",
       "      <td>0.008810</td>\n",
       "      <td>0.008810</td>\n",
       "      <td>0.907419</td>\n",
       "      <td>-0.070479</td>\n",
       "    </tr>\n",
       "    <tr>\n",
       "      <th>4</th>\n",
       "      <td>0.488907</td>\n",
       "      <td>0.080368</td>\n",
       "      <td>0.123901</td>\n",
       "      <td>0.053579</td>\n",
       "      <td>0.023441</td>\n",
       "      <td>0.010046</td>\n",
       "      <td>0.840519</td>\n",
       "      <td>-0.170783</td>\n",
       "    </tr>\n",
       "  </tbody>\n",
       "</table>\n",
       "</div>"
      ],
      "text/plain": [
       "        PTS       AST       TRB       TOV       STL       BLK      USG%  \\\n",
       "0  0.090952  0.034107  0.034107  0.017053  0.017053  0.005684  0.920886   \n",
       "1  0.485156  0.091786  0.201056  0.048079  0.034966  0.013112  0.843559   \n",
       "2  0.187483  0.025860  0.051720  0.025860  0.012930  0.000000  0.963277   \n",
       "3  0.396445  0.052859  0.101314  0.035240  0.008810  0.008810  0.907419   \n",
       "4  0.488907  0.080368  0.123901  0.053579  0.023441  0.010046  0.840519   \n",
       "\n",
       "        BPM  \n",
       "0 -0.375176  \n",
       "1  0.021854  \n",
       "2 -0.181019  \n",
       "3 -0.070479  \n",
       "4 -0.170783  "
      ]
     },
     "execution_count": 96,
     "metadata": {},
     "output_type": "execute_result"
    }
   ],
   "source": [
    "from sklearn import preprocessing\n",
    "norm = preprocessing.normalize(sgdf)\n",
    "norm_df = pd.DataFrame(norm, columns=sgdf.columns)\n",
    "norm_df.head()"
   ]
  },
  {
   "cell_type": "code",
   "execution_count": 97,
   "id": "246edf91",
   "metadata": {},
   "outputs": [
    {
     "data": {
      "text/plain": [
       "<matplotlib.axes._subplots.AxesSubplot at 0x20113c91908>"
      ]
     },
     "execution_count": 97,
     "metadata": {},
     "output_type": "execute_result"
    },
    {
     "data": {
      "image/png": "[encoded data removed]",
      "text/plain": [
       "<Figure size 864x432 with 1 Axes>"
      ]
     },
     "metadata": {
      "needs_background": "light"
     },
     "output_type": "display_data"
    }
   ],
   "source": [
    "sns.kdeplot(data = norm_df)"
   ]
  },
  {
   "cell_type": "markdown",
   "id": "09781278",
   "metadata": {},
   "source": [
    "### PCA"
   ]
  },
  {
   "cell_type": "code",
   "execution_count": 98,
   "id": "ffbe12ae",
   "metadata": {},
   "outputs": [
    {
     "data": {
      "image/png": "[encoded data removed]",
      "text/plain": [
       "<Figure size 864x432 with 1 Axes>"
      ]
     },
     "metadata": {
      "needs_background": "light"
     },
     "output_type": "display_data"
    }
   ],
   "source": [
    "from sklearn.decomposition import PCA   \n",
    "pca = PCA().fit(norm_df)\n",
    "\n",
    "%matplotlib inline\n",
    "plt.rcParams[\"figure.figsize\"] = (12,6)\n",
    "\n",
    "fig, ax = plt.subplots()\n",
    "xi = np.arange(1,9,step=1)\n",
    "y = np.cumsum(pca.explained_variance_ratio_)\n",
    "\n",
    "plt.ylim(0.0,1.1)\n",
    "plt.plot(xi, y, marker = 'o', linestyle='--', color='b')\n",
    "\n",
    "plt.xlabel('Number of Components')\n",
    "plt.xticks(np.arange(0, 11, step=1)) #change from 0-based array index to 1-based human-readable label\n",
    "plt.ylabel('Cumulative variance (%)')\n",
    "plt.title('The number of components needed to explain variance')\n",
    "\n",
    "plt.axhline(y=0.95, color='r', linestyle='-')\n",
    "plt.text(0.5, 0.85, '95% cut-off threshold', color = 'red', fontsize=16)\n",
    "\n",
    "ax.grid(axis='x')\n",
    "plt.show()"
   ]
  },
  {
   "cell_type": "code",
   "execution_count": 99,
   "id": "f220710b",
   "metadata": {},
   "outputs": [
    {
     "data": {
      "text/html": [
       "<div>\n",
       "<style scoped>\n",
       "    .dataframe tbody tr th:only-of-type {\n",
       "        vertical-align: middle;\n",
       "    }\n",
       "\n",
       "    .dataframe tbody tr th {\n",
       "        vertical-align: top;\n",
       "    }\n",
       "\n",
       "    .dataframe thead th {\n",
       "        text-align: right;\n",
       "    }\n",
       "</style>\n",
       "<table border=\"1\" class=\"dataframe\">\n",
       "  <thead>\n",
       "    <tr style=\"text-align: right;\">\n",
       "      <th></th>\n",
       "      <th>PC1</th>\n",
       "      <th>PC2</th>\n",
       "      <th>PC3</th>\n",
       "    </tr>\n",
       "  </thead>\n",
       "  <tbody>\n",
       "    <tr>\n",
       "      <th>0</th>\n",
       "      <td>0.383239</td>\n",
       "      <td>-0.117845</td>\n",
       "      <td>-0.019207</td>\n",
       "    </tr>\n",
       "    <tr>\n",
       "      <th>1</th>\n",
       "      <td>-0.192834</td>\n",
       "      <td>-0.013856</td>\n",
       "      <td>0.041651</td>\n",
       "    </tr>\n",
       "    <tr>\n",
       "      <th>2</th>\n",
       "      <td>0.173687</td>\n",
       "      <td>-0.183235</td>\n",
       "      <td>-0.037736</td>\n",
       "    </tr>\n",
       "    <tr>\n",
       "      <th>3</th>\n",
       "      <td>-0.049577</td>\n",
       "      <td>-0.075170</td>\n",
       "      <td>-0.032766</td>\n",
       "    </tr>\n",
       "    <tr>\n",
       "      <th>4</th>\n",
       "      <td>-0.038162</td>\n",
       "      <td>0.073682</td>\n",
       "      <td>-0.007599</td>\n",
       "    </tr>\n",
       "  </tbody>\n",
       "</table>\n",
       "</div>"
      ],
      "text/plain": [
       "        PC1       PC2       PC3\n",
       "0  0.383239 -0.117845 -0.019207\n",
       "1 -0.192834 -0.013856  0.041651\n",
       "2  0.173687 -0.183235 -0.037736\n",
       "3 -0.049577 -0.075170 -0.032766\n",
       "4 -0.038162  0.073682 -0.007599"
      ]
     },
     "execution_count": 99,
     "metadata": {},
     "output_type": "execute_result"
    }
   ],
   "source": [
    "pca = PCA(n_components = 3)\n",
    "prin_comp = pca.fit_transform(norm_df)\n",
    "prin_df = pd.DataFrame(data = prin_comp, columns = ['PC1','PC2','PC3'])\n",
    "prin_df.head()"
   ]
  },
  {
   "cell_type": "markdown",
   "id": "c640649b",
   "metadata": {},
   "source": [
    "### K-Mean Clustering"
   ]
  },
  {
   "cell_type": "code",
   "execution_count": 100,
   "id": "5a9c3a55",
   "metadata": {},
   "outputs": [],
   "source": [
    "from sklearn.cluster import KMeans"
   ]
  },
  {
   "cell_type": "code",
   "execution_count": 101,
   "id": "c07b71fb",
   "metadata": {},
   "outputs": [],
   "source": [
    "tots_within = []\n",
    "for k in range(1,14):\n",
    "    km = KMeans(max_iter = 300, random_state = 42, \n",
    "                init= 'random', n_clusters = k)\n",
    "    km = km.fit(prin_df)\n",
    "    tots_within.append(km.inertia_)"
   ]
  },
  {
   "cell_type": "markdown",
   "id": "9d4b32f3",
   "metadata": {},
   "source": [
    "### Cluster Selection/Verification using Elbow Method\n"
   ]
  },
  {
   "cell_type": "code",
   "execution_count": 102,
   "id": "e8c080d2",
   "metadata": {},
   "outputs": [
    {
     "data": {
      "text/plain": [
       "<matplotlib.collections.LineCollection at 0x20113f06c48>"
      ]
     },
     "execution_count": 102,
     "metadata": {},
     "output_type": "execute_result"
    },
    {
     "data": {
      "image/png": "[encoded data removed]",
      "text/plain": [
       "<Figure size 864x432 with 1 Axes>"
      ]
     },
     "metadata": {
      "needs_background": "light"
     },
     "output_type": "display_data"
    }
   ],
   "source": [
    "#locating elbow location using kneeLocator\n",
    "from kneed import KneeLocator\n",
    "\n",
    "kl = KneeLocator(range(1,14), \n",
    "                 tots_within, \n",
    "                 curve = \"convex\", \n",
    "                 direction = \"decreasing\")\n",
    "\n",
    "#locating the elbow point\n",
    "fig, ax = plt.subplots()\n",
    "ax.plot(range(1,14), tots_within, 'go-')\n",
    "ax.set_xlabel('number of clusters')\n",
    "ax.set_ylabel('total within sum of squares')\n",
    "plt.vlines(kl.knee, plt.ylim()[0], plt.ylim()[1], linestyles='dashed')"
   ]
  },
  {
   "cell_type": "code",
   "execution_count": 103,
   "id": "03d2bd0d",
   "metadata": {},
   "outputs": [
    {
     "data": {
      "text/plain": [
       "array([1, 0, 1, 2, 2, 2, 2, 2, 2, 0, 1, 2, 0, 0, 0, 1, 1, 0, 1, 2, 2, 2,\n",
       "       2, 3, 0, 0, 2, 0, 0, 0, 0, 0, 2, 2, 1, 0, 0, 0, 2, 2, 2, 0, 0, 0,\n",
       "       2, 2, 2, 2, 1, 3, 0, 2, 2, 0, 2, 0, 1, 2, 0, 2, 1, 2, 2, 0, 0, 0,\n",
       "       2, 0, 2, 2, 2, 2, 2, 0, 2, 1, 2, 2, 1, 2, 1, 1, 2, 0, 2, 0, 2, 3,\n",
       "       0, 2, 1, 2, 0, 0, 2, 1, 1, 2, 2, 0, 2, 2, 2, 3, 0, 0, 3, 0, 2, 2,\n",
       "       3, 0, 2, 2, 0, 0, 2, 0])"
      ]
     },
     "execution_count": 103,
     "metadata": {},
     "output_type": "execute_result"
    }
   ],
   "source": [
    "kmeans = KMeans(n_clusters = 4, init = \"k-means++\", random_state = 42)\n",
    "y_kmeans = kmeans.fit_predict(norm_df)\n",
    "y_kmeans"
   ]
  },
  {
   "cell_type": "markdown",
   "id": "7b4eb3f2",
   "metadata": {},
   "source": [
    "### Append the cluster"
   ]
  },
  {
   "cell_type": "code",
   "execution_count": 119,
   "id": "010f7b37",
   "metadata": {},
   "outputs": [
    {
     "name": "stderr",
     "output_type": "stream",
     "text": [
      "C:\\Users\\David\\Anaconda3\\lib\\site-packages\\ipykernel_launcher.py:1: SettingWithCopyWarning: \n",
      "A value is trying to be set on a copy of a slice from a DataFrame.\n",
      "Try using .loc[row_indexer,col_indexer] = value instead\n",
      "\n",
      "See the caveats in the documentation: https://pandas.pydata.org/pandas-docs/stable/user_guide/indexing.html#returning-a-view-versus-a-copy\n",
      "  \"\"\"Entry point for launching an IPython kernel.\n"
     ]
    },
    {
     "data": {
      "text/html": [
       "<div>\n",
       "<style scoped>\n",
       "    .dataframe tbody tr th:only-of-type {\n",
       "        vertical-align: middle;\n",
       "    }\n",
       "\n",
       "    .dataframe tbody tr th {\n",
       "        vertical-align: top;\n",
       "    }\n",
       "\n",
       "    .dataframe thead th {\n",
       "        text-align: right;\n",
       "    }\n",
       "</style>\n",
       "<table border=\"1\" class=\"dataframe\">\n",
       "  <thead>\n",
       "    <tr style=\"text-align: right;\">\n",
       "      <th></th>\n",
       "      <th>PTS</th>\n",
       "      <th>AST</th>\n",
       "      <th>TRB</th>\n",
       "      <th>TOV</th>\n",
       "      <th>STL</th>\n",
       "      <th>BLK</th>\n",
       "      <th>USG%</th>\n",
       "      <th>BPM</th>\n",
       "      <th>y_kmeans</th>\n",
       "      <th>Player</th>\n",
       "    </tr>\n",
       "  </thead>\n",
       "  <tbody>\n",
       "    <tr>\n",
       "      <th>0</th>\n",
       "      <td>1.6</td>\n",
       "      <td>0.6</td>\n",
       "      <td>0.6</td>\n",
       "      <td>0.3</td>\n",
       "      <td>0.3</td>\n",
       "      <td>0.1</td>\n",
       "      <td>16.2</td>\n",
       "      <td>-6.6</td>\n",
       "      <td>1</td>\n",
       "      <td>Adam Mokoka</td>\n",
       "    </tr>\n",
       "    <tr>\n",
       "      <th>1</th>\n",
       "      <td>11.1</td>\n",
       "      <td>2.1</td>\n",
       "      <td>4.6</td>\n",
       "      <td>1.1</td>\n",
       "      <td>0.8</td>\n",
       "      <td>0.3</td>\n",
       "      <td>19.3</td>\n",
       "      <td>0.5</td>\n",
       "      <td>0</td>\n",
       "      <td>Alec Burks</td>\n",
       "    </tr>\n",
       "    <tr>\n",
       "      <th>2</th>\n",
       "      <td>2.9</td>\n",
       "      <td>0.4</td>\n",
       "      <td>0.8</td>\n",
       "      <td>0.4</td>\n",
       "      <td>0.2</td>\n",
       "      <td>0.0</td>\n",
       "      <td>14.9</td>\n",
       "      <td>-2.8</td>\n",
       "      <td>1</td>\n",
       "      <td>Amir Coffey</td>\n",
       "    </tr>\n",
       "    <tr>\n",
       "      <th>3</th>\n",
       "      <td>9.0</td>\n",
       "      <td>1.2</td>\n",
       "      <td>2.3</td>\n",
       "      <td>0.8</td>\n",
       "      <td>0.2</td>\n",
       "      <td>0.2</td>\n",
       "      <td>20.6</td>\n",
       "      <td>-1.6</td>\n",
       "      <td>2</td>\n",
       "      <td>Anfernee Simons</td>\n",
       "    </tr>\n",
       "    <tr>\n",
       "      <th>4</th>\n",
       "      <td>14.6</td>\n",
       "      <td>2.4</td>\n",
       "      <td>3.7</td>\n",
       "      <td>1.6</td>\n",
       "      <td>0.7</td>\n",
       "      <td>0.3</td>\n",
       "      <td>25.1</td>\n",
       "      <td>-5.1</td>\n",
       "      <td>2</td>\n",
       "      <td>Anthony Edwards</td>\n",
       "    </tr>\n",
       "  </tbody>\n",
       "</table>\n",
       "</div>"
      ],
      "text/plain": [
       "    PTS  AST  TRB  TOV  STL  BLK  USG%  BPM  y_kmeans           Player\n",
       "0   1.6  0.6  0.6  0.3  0.3  0.1  16.2 -6.6         1      Adam Mokoka\n",
       "1  11.1  2.1  4.6  1.1  0.8  0.3  19.3  0.5         0       Alec Burks\n",
       "2   2.9  0.4  0.8  0.4  0.2  0.0  14.9 -2.8         1      Amir Coffey\n",
       "3   9.0  1.2  2.3  0.8  0.2  0.2  20.6 -1.6         2  Anfernee Simons\n",
       "4  14.6  2.4  3.7  1.6  0.7  0.3  25.1 -5.1         2  Anthony Edwards"
      ]
     },
     "execution_count": 119,
     "metadata": {},
     "output_type": "execute_result"
    }
   ],
   "source": [
    "sgdf['y_kmeans'] = pd.Series(y_kmeans)\n",
    "player = n_df['Player']\n",
    "clusdf = sgdf.join(player)\n",
    "clusdf.head()"
   ]
  },
  {
   "cell_type": "code",
   "execution_count": 120,
   "id": "28cbf610",
   "metadata": {},
   "outputs": [
    {
     "data": {
      "text/html": [
       "<div>\n",
       "<style scoped>\n",
       "    .dataframe tbody tr th:only-of-type {\n",
       "        vertical-align: middle;\n",
       "    }\n",
       "\n",
       "    .dataframe tbody tr th {\n",
       "        vertical-align: top;\n",
       "    }\n",
       "\n",
       "    .dataframe thead th {\n",
       "        text-align: right;\n",
       "    }\n",
       "</style>\n",
       "<table border=\"1\" class=\"dataframe\">\n",
       "  <thead>\n",
       "    <tr style=\"text-align: right;\">\n",
       "      <th></th>\n",
       "      <th>PTS</th>\n",
       "      <th>AST</th>\n",
       "      <th>TRB</th>\n",
       "      <th>TOV</th>\n",
       "      <th>STL</th>\n",
       "      <th>BLK</th>\n",
       "      <th>USG%</th>\n",
       "      <th>BPM</th>\n",
       "      <th>y_kmeans</th>\n",
       "      <th>Player</th>\n",
       "    </tr>\n",
       "  </thead>\n",
       "  <tbody>\n",
       "    <tr>\n",
       "      <th>50</th>\n",
       "      <td>24.533333</td>\n",
       "      <td>11.166667</td>\n",
       "      <td>6.933333</td>\n",
       "      <td>4.3</td>\n",
       "      <td>1.0</td>\n",
       "      <td>0.8</td>\n",
       "      <td>26.866667</td>\n",
       "      <td>5.6</td>\n",
       "      <td>0</td>\n",
       "      <td>James Harden</td>\n",
       "    </tr>\n",
       "  </tbody>\n",
       "</table>\n",
       "</div>"
      ],
      "text/plain": [
       "          PTS        AST       TRB  TOV  STL  BLK       USG%  BPM  y_kmeans  \\\n",
       "50  24.533333  11.166667  6.933333  4.3  1.0  0.8  26.866667  5.6         0   \n",
       "\n",
       "          Player  \n",
       "50  James Harden  "
      ]
     },
     "execution_count": 120,
     "metadata": {},
     "output_type": "execute_result"
    }
   ],
   "source": [
    "clusdf.query(\"Player == 'James Harden'\")"
   ]
  },
  {
   "cell_type": "code",
   "execution_count": 121,
   "id": "15cd3896",
   "metadata": {},
   "outputs": [],
   "source": [
    "filt_zero = clusdf[y_kmeans == 0]\n",
    "filt_one = clusdf[y_kmeans == 1]\n",
    "filt_two = clusdf[y_kmeans == 2]\n",
    "filt_three = clusdf[y_kmeans == 3]"
   ]
  },
  {
   "cell_type": "code",
   "execution_count": 126,
   "id": "928a2513",
   "metadata": {},
   "outputs": [
    {
     "data": {
      "text/html": [
       "<div>\n",
       "<style scoped>\n",
       "    .dataframe tbody tr th:only-of-type {\n",
       "        vertical-align: middle;\n",
       "    }\n",
       "\n",
       "    .dataframe tbody tr th {\n",
       "        vertical-align: top;\n",
       "    }\n",
       "\n",
       "    .dataframe thead th {\n",
       "        text-align: right;\n",
       "    }\n",
       "</style>\n",
       "<table border=\"1\" class=\"dataframe\">\n",
       "  <thead>\n",
       "    <tr style=\"text-align: right;\">\n",
       "      <th></th>\n",
       "      <th>PTS</th>\n",
       "      <th>AST</th>\n",
       "      <th>TRB</th>\n",
       "      <th>TOV</th>\n",
       "      <th>STL</th>\n",
       "      <th>BLK</th>\n",
       "      <th>USG%</th>\n",
       "      <th>BPM</th>\n",
       "      <th>y_kmeans</th>\n",
       "      <th>Player</th>\n",
       "    </tr>\n",
       "  </thead>\n",
       "  <tbody>\n",
       "    <tr>\n",
       "      <th>23</th>\n",
       "      <td>0.0</td>\n",
       "      <td>0.3</td>\n",
       "      <td>0.0</td>\n",
       "      <td>0.0</td>\n",
       "      <td>0.0</td>\n",
       "      <td>0.0</td>\n",
       "      <td>17.3</td>\n",
       "      <td>-21.4</td>\n",
       "      <td>3</td>\n",
       "      <td>Deividas Sirvydis</td>\n",
       "    </tr>\n",
       "    <tr>\n",
       "      <th>49</th>\n",
       "      <td>0.0</td>\n",
       "      <td>0.0</td>\n",
       "      <td>0.5</td>\n",
       "      <td>0.5</td>\n",
       "      <td>0.0</td>\n",
       "      <td>0.0</td>\n",
       "      <td>10.7</td>\n",
       "      <td>-21.2</td>\n",
       "      <td>3</td>\n",
       "      <td>Jalen Harris</td>\n",
       "    </tr>\n",
       "    <tr>\n",
       "      <th>87</th>\n",
       "      <td>0.8</td>\n",
       "      <td>0.6</td>\n",
       "      <td>0.4</td>\n",
       "      <td>1.2</td>\n",
       "      <td>0.2</td>\n",
       "      <td>0.0</td>\n",
       "      <td>21.2</td>\n",
       "      <td>-22.2</td>\n",
       "      <td>3</td>\n",
       "      <td>Quinndary Weatherspoon</td>\n",
       "    </tr>\n",
       "    <tr>\n",
       "      <th>103</th>\n",
       "      <td>0.0</td>\n",
       "      <td>0.3</td>\n",
       "      <td>0.1</td>\n",
       "      <td>0.1</td>\n",
       "      <td>0.0</td>\n",
       "      <td>0.0</td>\n",
       "      <td>7.0</td>\n",
       "      <td>-13.3</td>\n",
       "      <td>3</td>\n",
       "      <td>Terrance Ferguson</td>\n",
       "    </tr>\n",
       "    <tr>\n",
       "      <th>106</th>\n",
       "      <td>0.2</td>\n",
       "      <td>0.0</td>\n",
       "      <td>0.1</td>\n",
       "      <td>0.0</td>\n",
       "      <td>0.0</td>\n",
       "      <td>0.0</td>\n",
       "      <td>14.7</td>\n",
       "      <td>-17.4</td>\n",
       "      <td>3</td>\n",
       "      <td>Theo Pinson</td>\n",
       "    </tr>\n",
       "    <tr>\n",
       "      <th>110</th>\n",
       "      <td>0.0</td>\n",
       "      <td>0.3</td>\n",
       "      <td>0.3</td>\n",
       "      <td>0.0</td>\n",
       "      <td>0.0</td>\n",
       "      <td>0.0</td>\n",
       "      <td>16.8</td>\n",
       "      <td>-21.2</td>\n",
       "      <td>3</td>\n",
       "      <td>Ty-Shon Alexander</td>\n",
       "    </tr>\n",
       "  </tbody>\n",
       "</table>\n",
       "</div>"
      ],
      "text/plain": [
       "     PTS  AST  TRB  TOV  STL  BLK  USG%   BPM  y_kmeans  \\\n",
       "23   0.0  0.3  0.0  0.0  0.0  0.0  17.3 -21.4         3   \n",
       "49   0.0  0.0  0.5  0.5  0.0  0.0  10.7 -21.2         3   \n",
       "87   0.8  0.6  0.4  1.2  0.2  0.0  21.2 -22.2         3   \n",
       "103  0.0  0.3  0.1  0.1  0.0  0.0   7.0 -13.3         3   \n",
       "106  0.2  0.0  0.1  0.0  0.0  0.0  14.7 -17.4         3   \n",
       "110  0.0  0.3  0.3  0.0  0.0  0.0  16.8 -21.2         3   \n",
       "\n",
       "                     Player  \n",
       "23        Deividas Sirvydis  \n",
       "49             Jalen Harris  \n",
       "87   Quinndary Weatherspoon  \n",
       "103       Terrance Ferguson  \n",
       "106             Theo Pinson  \n",
       "110       Ty-Shon Alexander  "
      ]
     },
     "execution_count": 126,
     "metadata": {},
     "output_type": "execute_result"
    }
   ],
   "source": [
    "filt_three"
   ]
  },
  {
   "cell_type": "code",
   "execution_count": null,
   "id": "ae11784b",
   "metadata": {},
   "outputs": [],
   "source": []
  }
 ],
 "metadata": {
  "kernelspec": {
   "display_name": "Python 3",
   "language": "python",
   "name": "python3"
  },
  "language_info": {
   "codemirror_mode": {
    "name": "ipython",
    "version": 3
   },
   "file_extension": ".py",
   "mimetype": "text/x-python",
   "name": "python",
   "nbconvert_exporter": "python",
   "pygments_lexer": "ipython3",
   "version": "3.7.7"
  }
 },
 "nbformat": 4,
 "nbformat_minor": 5
}
